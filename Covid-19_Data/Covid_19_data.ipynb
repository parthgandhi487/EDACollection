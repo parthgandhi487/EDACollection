{
 "cells": [
  {
   "cell_type": "code",
   "execution_count": 1,
   "metadata": {},
   "outputs": [],
   "source": [
    "import pandas as pd\n",
    "import numpy as np"
   ]
  },
  {
   "cell_type": "code",
   "execution_count": 3,
   "metadata": {},
   "outputs": [],
   "source": [
    "df=pd.read_csv('covid_19_data.csv')"
   ]
  },
  {
   "cell_type": "code",
   "execution_count": 4,
   "metadata": {},
   "outputs": [
    {
     "data": {
      "text/html": [
       "<div>\n",
       "<style scoped>\n",
       "    .dataframe tbody tr th:only-of-type {\n",
       "        vertical-align: middle;\n",
       "    }\n",
       "\n",
       "    .dataframe tbody tr th {\n",
       "        vertical-align: top;\n",
       "    }\n",
       "\n",
       "    .dataframe thead th {\n",
       "        text-align: right;\n",
       "    }\n",
       "</style>\n",
       "<table border=\"1\" class=\"dataframe\">\n",
       "  <thead>\n",
       "    <tr style=\"text-align: right;\">\n",
       "      <th></th>\n",
       "      <th>SNo</th>\n",
       "      <th>ObservationDate</th>\n",
       "      <th>Province/State</th>\n",
       "      <th>Country/Region</th>\n",
       "      <th>Last Update</th>\n",
       "      <th>Confirmed</th>\n",
       "      <th>Deaths</th>\n",
       "      <th>Recovered</th>\n",
       "    </tr>\n",
       "  </thead>\n",
       "  <tbody>\n",
       "    <tr>\n",
       "      <th>0</th>\n",
       "      <td>1</td>\n",
       "      <td>01/22/2020</td>\n",
       "      <td>Anhui</td>\n",
       "      <td>Mainland China</td>\n",
       "      <td>1/22/2020 17:00</td>\n",
       "      <td>1.0</td>\n",
       "      <td>0.0</td>\n",
       "      <td>0.0</td>\n",
       "    </tr>\n",
       "    <tr>\n",
       "      <th>1</th>\n",
       "      <td>2</td>\n",
       "      <td>01/22/2020</td>\n",
       "      <td>Beijing</td>\n",
       "      <td>Mainland China</td>\n",
       "      <td>1/22/2020 17:00</td>\n",
       "      <td>14.0</td>\n",
       "      <td>0.0</td>\n",
       "      <td>0.0</td>\n",
       "    </tr>\n",
       "    <tr>\n",
       "      <th>2</th>\n",
       "      <td>3</td>\n",
       "      <td>01/22/2020</td>\n",
       "      <td>Chongqing</td>\n",
       "      <td>Mainland China</td>\n",
       "      <td>1/22/2020 17:00</td>\n",
       "      <td>6.0</td>\n",
       "      <td>0.0</td>\n",
       "      <td>0.0</td>\n",
       "    </tr>\n",
       "    <tr>\n",
       "      <th>3</th>\n",
       "      <td>4</td>\n",
       "      <td>01/22/2020</td>\n",
       "      <td>Fujian</td>\n",
       "      <td>Mainland China</td>\n",
       "      <td>1/22/2020 17:00</td>\n",
       "      <td>1.0</td>\n",
       "      <td>0.0</td>\n",
       "      <td>0.0</td>\n",
       "    </tr>\n",
       "    <tr>\n",
       "      <th>4</th>\n",
       "      <td>5</td>\n",
       "      <td>01/22/2020</td>\n",
       "      <td>Gansu</td>\n",
       "      <td>Mainland China</td>\n",
       "      <td>1/22/2020 17:00</td>\n",
       "      <td>0.0</td>\n",
       "      <td>0.0</td>\n",
       "      <td>0.0</td>\n",
       "    </tr>\n",
       "  </tbody>\n",
       "</table>\n",
       "</div>"
      ],
      "text/plain": [
       "   SNo ObservationDate Province/State  Country/Region      Last Update  \\\n",
       "0    1      01/22/2020          Anhui  Mainland China  1/22/2020 17:00   \n",
       "1    2      01/22/2020        Beijing  Mainland China  1/22/2020 17:00   \n",
       "2    3      01/22/2020      Chongqing  Mainland China  1/22/2020 17:00   \n",
       "3    4      01/22/2020         Fujian  Mainland China  1/22/2020 17:00   \n",
       "4    5      01/22/2020          Gansu  Mainland China  1/22/2020 17:00   \n",
       "\n",
       "   Confirmed  Deaths  Recovered  \n",
       "0        1.0     0.0        0.0  \n",
       "1       14.0     0.0        0.0  \n",
       "2        6.0     0.0        0.0  \n",
       "3        1.0     0.0        0.0  \n",
       "4        0.0     0.0        0.0  "
      ]
     },
     "execution_count": 4,
     "metadata": {},
     "output_type": "execute_result"
    }
   ],
   "source": [
    "df.head()"
   ]
  },
  {
   "cell_type": "code",
   "execution_count": 5,
   "metadata": {},
   "outputs": [
    {
     "data": {
      "text/plain": [
       "(95284, 8)"
      ]
     },
     "execution_count": 5,
     "metadata": {},
     "output_type": "execute_result"
    }
   ],
   "source": [
    "df.shape"
   ]
  },
  {
   "cell_type": "code",
   "execution_count": 6,
   "metadata": {},
   "outputs": [
    {
     "name": "stdout",
     "output_type": "stream",
     "text": [
      "<class 'pandas.core.frame.DataFrame'>\n",
      "RangeIndex: 95284 entries, 0 to 95283\n",
      "Data columns (total 8 columns):\n",
      "SNo                95284 non-null int64\n",
      "ObservationDate    95284 non-null object\n",
      "Province/State     64803 non-null object\n",
      "Country/Region     95284 non-null object\n",
      "Last Update        95284 non-null object\n",
      "Confirmed          95284 non-null float64\n",
      "Deaths             95284 non-null float64\n",
      "Recovered          95284 non-null float64\n",
      "dtypes: float64(3), int64(1), object(4)\n",
      "memory usage: 5.8+ MB\n"
     ]
    }
   ],
   "source": [
    "df.info()"
   ]
  },
  {
   "cell_type": "code",
   "execution_count": 7,
   "metadata": {},
   "outputs": [
    {
     "data": {
      "text/plain": [
       "SNo                95284\n",
       "ObservationDate      217\n",
       "Province/State       723\n",
       "Country/Region       223\n",
       "Last Update         1958\n",
       "Confirmed          26383\n",
       "Deaths              6354\n",
       "Recovered          16646\n",
       "dtype: int64"
      ]
     },
     "execution_count": 7,
     "metadata": {},
     "output_type": "execute_result"
    }
   ],
   "source": [
    "df.nunique()"
   ]
  },
  {
   "cell_type": "code",
   "execution_count": 9,
   "metadata": {},
   "outputs": [
    {
     "data": {
      "text/plain": [
       "array(['Anhui', 'Beijing', 'Chongqing', 'Fujian', 'Gansu', 'Guangdong',\n",
       "       'Guangxi', 'Guizhou', 'Hainan', 'Hebei', 'Heilongjiang', 'Henan',\n",
       "       'Hong Kong', 'Hubei', 'Hunan', 'Inner Mongolia', 'Jiangsu',\n",
       "       'Jiangxi', 'Jilin', 'Liaoning', 'Macau', 'Ningxia', 'Qinghai',\n",
       "       'Shaanxi', 'Shandong', 'Shanghai', 'Shanxi', 'Sichuan', 'Taiwan',\n",
       "       'Tianjin', 'Tibet', 'Washington', 'Xinjiang', 'Yunnan', 'Zhejiang',\n",
       "       nan, 'Chicago', 'Illinois', 'California', 'Arizona', 'Ontario',\n",
       "       'New South Wales', 'Victoria', 'British Columbia', 'Bavaria',\n",
       "       'Queensland', 'Chicago, IL', 'South Australia', 'Boston, MA',\n",
       "       'Los Angeles, CA', 'Orange, CA', 'Santa Clara, CA', 'Seattle, WA',\n",
       "       'Tempe, AZ', 'San Benito, CA', 'Toronto, ON', 'London, ON',\n",
       "       'Madison, WI', 'Cruise Ship', 'Diamond Princess cruise ship',\n",
       "       'San Diego County, CA', 'San Antonio, TX', 'Ashland, NE',\n",
       "       'Travis, CA', 'From Diamond Princess', 'Lackland, TX', 'None',\n",
       "       'Humboldt County, CA', 'Sacramento County, CA',\n",
       "       'Omaha, NE (From Diamond Princess)',\n",
       "       'Travis, CA (From Diamond Princess)',\n",
       "       'Lackland, TX (From Diamond Princess)',\n",
       "       'Unassigned Location (From Diamond Princess)', ' Montreal, QC',\n",
       "       'Western Australia', 'Portland, OR', 'Snohomish County, WA',\n",
       "       'Providence, RI', 'King County, WA', 'Cook County, IL', 'Tasmania',\n",
       "       'Grafton County, NH', 'Hillsborough, FL', 'New York City, NY',\n",
       "       'Placer County, CA', 'San Mateo, CA', 'Sarasota, FL',\n",
       "       'Sonoma County, CA', 'Umatilla, OR', 'Fulton County, GA',\n",
       "       'Washington County, OR', ' Norfolk County, MA', 'Berkeley, CA',\n",
       "       'Maricopa County, AZ', 'Wake County, NC', 'Westchester County, NY',\n",
       "       'Orange County, CA', 'Northern Territory',\n",
       "       'Contra Costa County, CA', 'Bergen County, NJ',\n",
       "       'Harris County, TX', 'San Francisco County, CA',\n",
       "       'Clark County, NV', 'Fort Bend County, TX', 'Grant County, WA',\n",
       "       'Queens County, NY', 'Santa Rosa County, FL',\n",
       "       'Williamson County, TN', 'New York County, NY',\n",
       "       'Unassigned Location, WA', 'Montgomery County, MD',\n",
       "       'Suffolk County, MA', 'Denver County, CO', 'Summit County, CO',\n",
       "       'Calgary, Alberta', 'Chatham County, NC', 'Delaware County, PA',\n",
       "       'Douglas County, NE', 'Fayette County, KY', 'Floyd County, GA',\n",
       "       'Marion County, IN', 'Middlesex County, MA', 'Nassau County, NY',\n",
       "       'Norwell County, MA', 'Ramsey County, MN', 'Washoe County, NV',\n",
       "       'Wayne County, PA', 'Yolo County, CA', 'Santa Clara County, CA',\n",
       "       'Grand Princess Cruise Ship', 'Douglas County, CO',\n",
       "       'Providence County, RI', 'Alameda County, CA',\n",
       "       'Broward County, FL', 'Fairfield County, CT', 'Lee County, FL',\n",
       "       'Pinal County, AZ', 'Rockland County, NY', 'Saratoga County, NY',\n",
       "       'Edmonton, Alberta', 'Charleston County, SC', 'Clark County, WA',\n",
       "       'Cobb County, GA', 'Davis County, UT', 'El Paso County, CO',\n",
       "       'Honolulu County, HI', 'Jackson County, OR ',\n",
       "       'Jefferson County, WA', 'Kershaw County, SC', 'Klamath County, OR',\n",
       "       'Madera County, CA', 'Pierce County, WA', 'Plymouth County, MA',\n",
       "       'Santa Cruz County, CA', 'Tulsa County, OK',\n",
       "       'Montgomery County, TX', 'Norfolk County, MA',\n",
       "       'Montgomery County, PA', 'Fairfax County, VA',\n",
       "       'Rockingham County, NH', 'Washington, D.C.',\n",
       "       'Berkshire County, MA', 'Davidson County, TN',\n",
       "       'Douglas County, OR', 'Fresno County, CA', 'Harford County, MD',\n",
       "       'Hendricks County, IN', 'Hudson County, NJ', 'Johnson County, KS',\n",
       "       'Kittitas County, WA', 'Manatee County, FL', 'Marion County, OR',\n",
       "       'Okaloosa County, FL', 'Polk County, GA', 'Riverside County, CA',\n",
       "       'Shelby County, TN', 'Spokane County, WA', 'St. Louis County, MO',\n",
       "       'Suffolk County, NY', 'Ulster County, NY',\n",
       "       'Unassigned Location, VT', 'Unknown Location, MA',\n",
       "       'Volusia County, FL', 'Alberta', 'Quebec', 'Johnson County, IA',\n",
       "       'Harrison County, KY', 'Bennington County, VT',\n",
       "       'Carver County, MN', 'Charlotte County, FL', 'Cherokee County, GA',\n",
       "       'Collin County, TX', 'Jefferson County, KY',\n",
       "       'Jefferson Parish, LA', 'Shasta County, CA',\n",
       "       'Spartanburg County, SC', 'New York', 'Massachusetts',\n",
       "       'Grand Princess', 'Georgia', 'Colorado', 'Florida', 'New Jersey',\n",
       "       'Oregon', 'Texas', 'Pennsylvania', 'Iowa', 'Maryland',\n",
       "       'North Carolina', 'South Carolina', 'Tennessee', 'Virginia',\n",
       "       'Indiana', 'Kentucky', 'District of Columbia', 'Nevada',\n",
       "       'New Hampshire', 'Minnesota', 'Nebraska', 'Ohio', 'Rhode Island',\n",
       "       'Wisconsin', 'Connecticut', 'Hawaii', 'Oklahoma', 'Utah', 'Kansas',\n",
       "       'Louisiana', 'Missouri', 'Vermont', 'Alaska', 'Arkansas',\n",
       "       'Delaware', 'Idaho', 'Maine', 'Michigan', 'Mississippi', 'Montana',\n",
       "       'New Mexico', 'North Dakota', 'South Dakota', 'West Virginia',\n",
       "       'Wyoming', 'France', 'UK', 'Denmark', 'Faroe Islands', 'St Martin',\n",
       "       'Channel Islands', 'New Brunswick', 'Saint Barthelemy',\n",
       "       'Gibraltar', 'Australian Capital Territory', 'United Kingdom',\n",
       "       'French Polynesia', 'Manitoba', 'Saskatchewan', 'Alabama',\n",
       "       'Fench Guiana', 'Puerto Rico', 'Virgin Islands, U.S.',\n",
       "       'French Guiana', 'Guam', 'Newfoundland and Labrador',\n",
       "       'Prince Edward Island', 'Mayotte', 'Netherlands', 'Nova Scotia',\n",
       "       'Guadeloupe', 'Curacao', 'Virgin Islands', 'Cayman Islands',\n",
       "       'Reunion', 'Aruba', 'United States Virgin Islands', 'US',\n",
       "       'Montserrat', 'Greenland', 'New Caledonia', 'Bermuda',\n",
       "       'Sint Maarten', 'Isle of Man', 'Northwest Territories',\n",
       "       'American Samoa', 'External territories', 'Jervis Bay Territory',\n",
       "       'Martinique', 'Northern Mariana Islands', 'Wuhan Evacuee',\n",
       "       'Recovered', 'Yukon', 'Anguilla', 'British Virgin Islands',\n",
       "       'Turks and Caicos Islands', 'Bonaire, Sint Eustatius and Saba',\n",
       "       'Falkland Islands (Islas Malvinas)', 'Saint Pierre and Miquelon',\n",
       "       'Falkland Islands (Malvinas)', 'Abruzzo', 'Andalusia', 'Aragon',\n",
       "       'Asturias', 'Baden-Wurttemberg', 'Baleares', 'Basilicata',\n",
       "       'Bayern', 'Berlin', 'Brandenburg', 'Bremen', 'C. Valenciana',\n",
       "       'Calabria', 'Campania', 'Canarias', 'Cantabria',\n",
       "       'Castilla - La Mancha', 'Castilla y Leon', 'Catalonia', 'Ceuta',\n",
       "       'Emilia-Romagna', 'Extremadura', 'Friuli Venezia Giulia',\n",
       "       'Galicia', 'Hamburg', 'Hessen', 'La Rioja', 'Lazio', 'Liguria',\n",
       "       'Lombardia', 'Madrid', 'Marche', 'Mecklenburg-Vorpommern',\n",
       "       'Melilla', 'Molise', 'Murcia', 'Navarra', 'Niedersachsen',\n",
       "       'Nordrhein-Westfalen', 'P.A. Bolzano', 'P.A. Trento', 'Pais Vasco',\n",
       "       'Piemonte', 'Puglia', 'Rheinland-Pfalz', 'Saarland', 'Sachsen',\n",
       "       'Sachsen-Anhalt', 'Sardegna', 'Schleswig-Holstein', 'Sicilia',\n",
       "       'Thuringen', 'Toscana', 'Umbria', 'Unknown', \"Valle d'Aosta\",\n",
       "       'Veneto', 'Acre', 'Aguascalientes', 'Alagoas', 'Amapa', 'Amazonas',\n",
       "       'Antofagasta', 'Araucania', 'Arica y Parinacota', 'Atacama',\n",
       "       'Aysen', 'Bahia', 'Baja California', 'Baja California Sur',\n",
       "       'Biobio', 'Campeche', 'Ceara', 'Chiapas', 'Chihuahua',\n",
       "       'Ciudad de Mexico', 'Coahuila', 'Colima', 'Coquimbo',\n",
       "       'Distrito Federal', 'Durango', 'Espirito Santo', 'Goias',\n",
       "       'Guanajuato', 'Guerrero', 'Hidalgo', 'Jalisco', 'Los Lagos',\n",
       "       'Los Rios', 'Magallanes', 'Maranhao', 'Mato Grosso',\n",
       "       'Mato Grosso do Sul', 'Maule', 'Metropolitana', 'Mexico',\n",
       "       'Michoacan', 'Minas Gerais', 'Morelos', 'Nayarit', 'Nuble',\n",
       "       'Nuevo Leon', 'OHiggins', 'Oaxaca', 'Para', 'Paraiba', 'Parana',\n",
       "       'Pernambuco', 'Piaui', 'Puebla', 'Queretaro', 'Quintana Roo',\n",
       "       'Rio Grande do Norte', 'Rio Grande do Sul', 'Rio de Janeiro',\n",
       "       'Rondonia', 'Roraima', 'San Luis Potosi', 'Santa Catarina',\n",
       "       'Sao Paulo', 'Sergipe', 'Sinaloa', 'Sonora', 'Tabasco',\n",
       "       'Tamaulipas', 'Tarapaca', 'Tlaxcala', 'Tocantins', 'Valparaiso',\n",
       "       'Veracruz', 'Yucatan', 'Zacatecas', 'Aichi', 'Akita', 'Ancash',\n",
       "       'Antioquia', 'Aomori', 'Apurimac', 'Arauca', 'Arequipa',\n",
       "       'Atlantico', 'Ayacucho', 'Bolivar', 'Boyaca', 'Cajamarca',\n",
       "       'Caldas', 'Callao', 'Capital District', 'Caqueta', 'Casanare',\n",
       "       'Cauca', 'Cesar', 'Chiba', 'Choco', 'Cordoba', 'Cundinamarca',\n",
       "       'Cusco', 'Ehime', 'Fukui', 'Fukuoka', 'Fukushima', 'Gifu', 'Gunma',\n",
       "       'Hiroshima', 'Hokkaido', 'Huancavelica', 'Huanuco', 'Huila',\n",
       "       'Hyogo', 'Ibaraki', 'Ica', 'Ishikawa', 'Junin', 'Kagawa',\n",
       "       'Kagoshima', 'Kanagawa', 'Kochi', 'Kumamoto', 'Kyoto',\n",
       "       'La Guajira', 'La Libertad', 'Lambayeque', 'Lima', 'Loreto',\n",
       "       'Madre de Dios', 'Magdalena', 'Meta', 'Mie', 'Miyagi', 'Miyazaki',\n",
       "       'Moquegua', 'Nagano', 'Nagasaki', 'Nara', 'Narino', 'Niigata',\n",
       "       'Norte de Santander', 'Oita', 'Okayama', 'Okinawa', 'Osaka',\n",
       "       'Pasco', 'Piura', 'Port Quarantine', 'Puno', 'Putumayo', 'Quindio',\n",
       "       'Risaralda', 'Saga', 'Saitama', 'San Andres y Providencia',\n",
       "       'San Martin', 'Santander', 'Shiga', 'Shimane', 'Shizuoka', 'Sucre',\n",
       "       'Tacna', 'Tochigi', 'Tokushima', 'Tokyo', 'Tolima', 'Tottori',\n",
       "       'Toyama', 'Tumbes', 'Ucayali', 'Valle del Cauca', 'Vaupes',\n",
       "       'Wakayama', 'Yamagata', 'Yamaguchi', 'Yamanashi', 'Guainia',\n",
       "       'Vichada', 'Adygea Republic', 'Altai Krai', 'Altai Republic',\n",
       "       'Amur Oblast', 'Arkhangelsk Oblast', 'Astrakhan Oblast',\n",
       "       'Bashkortostan Republic', 'Belgorod Oblast', 'Bryansk Oblast',\n",
       "       'Buryatia Republic', 'Chechen Republic', 'Chelyabinsk Oblast',\n",
       "       'Cherkasy Oblast', 'Chernihiv Oblast', 'Chernivtsi Oblast',\n",
       "       'Chukotka Autonomous Okrug', 'Chuvashia Republic',\n",
       "       'Crimea Republic*', 'Dagestan Republic', 'Dnipropetrovsk Oblast',\n",
       "       'Donetsk Oblast', 'Ingushetia Republic', 'Irkutsk Oblast',\n",
       "       'Ivano-Frankivsk Oblast', 'Ivanovo Oblast',\n",
       "       'Jewish Autonomous Okrug', 'Kabardino-Balkarian Republic',\n",
       "       'Kaliningrad Oblast', 'Kalmykia Republic', 'Kaluga Oblast',\n",
       "       'Kamchatka Krai', 'Karachay-Cherkess Republic', 'Karelia Republic',\n",
       "       'Kemerovo Oblast', 'Khabarovsk Krai', 'Khakassia Republic',\n",
       "       'Khanty-Mansi Autonomous Okrug', 'Kharkiv Oblast',\n",
       "       'Kherson Oblast', 'Khmelnytskyi Oblast', 'Kiev', 'Kiev Oblast',\n",
       "       'Kirov Oblast', 'Kirovohrad Oblast', 'Komi Republic',\n",
       "       'Kostroma Oblast', 'Krasnodar Krai', 'Krasnoyarsk Krai',\n",
       "       'Kurgan Oblast', 'Kursk Oblast', 'Leningrad Oblast',\n",
       "       'Lipetsk Oblast', 'Luhansk Oblast', 'Lviv Oblast',\n",
       "       'Magadan Oblast', 'Mari El Republic', 'Mordovia Republic',\n",
       "       'Moscow', 'Moscow Oblast', 'Murmansk Oblast', 'Mykolaiv Oblast',\n",
       "       'Nenets Autonomous Okrug', 'Nizhny Novgorod Oblast',\n",
       "       'North Ossetia - Alania Republic', 'Novgorod Oblast',\n",
       "       'Novosibirsk Oblast', 'Odessa Oblast', 'Omsk Oblast',\n",
       "       'Orel Oblast', 'Orenburg Oblast', 'Penza Oblast', 'Perm Krai',\n",
       "       'Poltava Oblast', 'Primorsky Krai', 'Pskov Oblast', 'Rivne Oblast',\n",
       "       'Rostov Oblast', 'Ryazan Oblast', 'Saint Petersburg',\n",
       "       'Sakha (Yakutiya) Republic', 'Sakhalin Oblast', 'Samara Oblast',\n",
       "       'Saratov Oblast', 'Sevastopol*', 'Smolensk Oblast',\n",
       "       'Stavropol Krai', 'Sumy Oblast', 'Sverdlovsk Oblast',\n",
       "       'Tambov Oblast', 'Tatarstan Republic', 'Ternopil Oblast',\n",
       "       'Tomsk Oblast', 'Tula Oblast', 'Tver Oblast', 'Tyumen Oblast',\n",
       "       'Tyva Republic', 'Udmurt Republic', 'Ulyanovsk Oblast',\n",
       "       'Vinnytsia Oblast', 'Vladimir Oblast', 'Volgograd Oblast',\n",
       "       'Vologda Oblast', 'Volyn Oblast', 'Voronezh Oblast',\n",
       "       'Yamalo-Nenets Autonomous Okrug', 'Yaroslavl Oblast',\n",
       "       'Zabaykalsky Krai', 'Zakarpattia Oblast', 'Zaporizhia Oblast',\n",
       "       'Zhytomyr Oblast', 'Blekinge', 'Dalarna', 'Gavleborg', 'Gotland',\n",
       "       'Halland', 'Jamtland Harjedalen', 'Jonkoping', 'Kalmar',\n",
       "       'Kronoberg', 'Norrbotten', 'Orebro', 'Ostergotland', 'Skane',\n",
       "       'Sormland', 'Stockholm', 'Uppsala', 'Varmland', 'Vasterbotten',\n",
       "       'Vasternorrland', 'Vastmanland', 'Vastra Gotaland', 'Guaviare',\n",
       "       'Andaman and Nicobar Islands', 'Andhra Pradesh',\n",
       "       'Arunachal Pradesh', 'Assam', 'Azad Jammu and Kashmir',\n",
       "       'Balochistan', 'Bihar', 'Chandigarh', 'Chhattisgarh',\n",
       "       'Dadar Nagar Haveli', 'Delhi', 'Gilgit-Baltistan', 'Goa',\n",
       "       'Gujarat', 'Haryana', 'Himachal Pradesh', 'Islamabad',\n",
       "       'Jammu and Kashmir', 'Jharkhand', 'Karnataka', 'Kerala',\n",
       "       'Khyber Pakhtunkhwa', 'Ladakh', 'Madhya Pradesh', 'Maharashtra',\n",
       "       'Manipur', 'Meghalaya', 'Mizoram', 'Nagaland', 'Odisha',\n",
       "       'Puducherry', 'Punjab', 'Rajasthan', 'Sikkim', 'Sindh',\n",
       "       'Tamil Nadu', 'Telangana', 'Tripura', 'Uttar Pradesh',\n",
       "       'Uttarakhand', 'West Bengal',\n",
       "       'Dadra and Nagar Haveli and Daman and Diu', 'England',\n",
       "       'Northern Ireland', 'Scotland', 'Wales', 'Drenthe', 'Flevoland',\n",
       "       'Friesland', 'Gelderland', 'Groningen', 'Limburg', 'Noord-Brabant',\n",
       "       'Noord-Holland', 'Overijssel', 'Utrecht', 'Zeeland',\n",
       "       'Zuid-Holland', 'Iwate', 'Lakshadweep'], dtype=object)"
      ]
     },
     "execution_count": 9,
     "metadata": {},
     "output_type": "execute_result"
    }
   ],
   "source": [
    "df['Province/State'].unique()"
   ]
  },
  {
   "cell_type": "code",
   "execution_count": 10,
   "metadata": {},
   "outputs": [
    {
     "data": {
      "text/plain": [
       "Unknown                         764\n",
       "Diamond Princess cruise ship    370\n",
       "Grand Princess                  328\n",
       "Amazonas                        278\n",
       "Hebei                           219\n",
       "                               ... \n",
       "Charlotte County, FL              1\n",
       "Jervis Bay Territory              1\n",
       "Collin County, TX                 1\n",
       "Harrison County, KY               1\n",
       "Fench Guiana                      1\n",
       "Name: Province/State, Length: 723, dtype: int64"
      ]
     },
     "execution_count": 10,
     "metadata": {},
     "output_type": "execute_result"
    }
   ],
   "source": [
    "df['Province/State'].value_counts()"
   ]
  },
  {
   "cell_type": "code",
   "execution_count": 11,
   "metadata": {},
   "outputs": [
    {
     "data": {
      "text/plain": [
       "SNo                95284\n",
       "ObservationDate    95284\n",
       "Province/State     64803\n",
       "Country/Region     95284\n",
       "Last Update        95284\n",
       "Confirmed          95284\n",
       "Deaths             95284\n",
       "Recovered          95284\n",
       "dtype: int64"
      ]
     },
     "execution_count": 11,
     "metadata": {},
     "output_type": "execute_result"
    }
   ],
   "source": [
    "df.count()"
   ]
  },
  {
   "cell_type": "code",
   "execution_count": 12,
   "metadata": {},
   "outputs": [
    {
     "data": {
      "text/plain": [
       "SNo                    0\n",
       "ObservationDate        0\n",
       "Province/State     30481\n",
       "Country/Region         0\n",
       "Last Update            0\n",
       "Confirmed              0\n",
       "Deaths                 0\n",
       "Recovered              0\n",
       "dtype: int64"
      ]
     },
     "execution_count": 12,
     "metadata": {},
     "output_type": "execute_result"
    }
   ],
   "source": [
    "df.isnull().sum()"
   ]
  },
  {
   "cell_type": "code",
   "execution_count": 13,
   "metadata": {},
   "outputs": [],
   "source": [
    "import seaborn as sns\n",
    "import matplotlib.pyplot as plt  ## for visualization so that it look more interactive."
   ]
  },
  {
   "cell_type": "code",
   "execution_count": 15,
   "metadata": {},
   "outputs": [
    {
     "data": {
      "text/plain": [
       "<matplotlib.axes._subplots.AxesSubplot at 0x2574745bbc8>"
      ]
     },
     "execution_count": 15,
     "metadata": {},
     "output_type": "execute_result"
    },
    {
     "data": {
      "image/png": "[encoded data removed]",
      "text/plain": [
       "<Figure size 864x432 with 2 Axes>"
      ]
     },
     "metadata": {
      "needs_background": "light"
     },
     "output_type": "display_data"
    }
   ],
   "source": [
    "plt.figure(figsize=(12,6))\n",
    "sns.heatmap(df.isnull())"
   ]
  },
  {
   "cell_type": "code",
   "execution_count": 16,
   "metadata": {},
   "outputs": [
    {
     "data": {
      "text/html": [
       "<div>\n",
       "<style scoped>\n",
       "    .dataframe tbody tr th:only-of-type {\n",
       "        vertical-align: middle;\n",
       "    }\n",
       "\n",
       "    .dataframe tbody tr th {\n",
       "        vertical-align: top;\n",
       "    }\n",
       "\n",
       "    .dataframe thead th {\n",
       "        text-align: right;\n",
       "    }\n",
       "</style>\n",
       "<table border=\"1\" class=\"dataframe\">\n",
       "  <thead>\n",
       "    <tr style=\"text-align: right;\">\n",
       "      <th></th>\n",
       "      <th>SNo</th>\n",
       "      <th>Confirmed</th>\n",
       "      <th>Deaths</th>\n",
       "      <th>Recovered</th>\n",
       "    </tr>\n",
       "    <tr>\n",
       "      <th>Country/Region</th>\n",
       "      <th></th>\n",
       "      <th></th>\n",
       "      <th></th>\n",
       "      <th></th>\n",
       "    </tr>\n",
       "  </thead>\n",
       "  <tbody>\n",
       "    <tr>\n",
       "      <th>Azerbaijan</th>\n",
       "      <td>2664</td>\n",
       "      <td>1.0</td>\n",
       "      <td>0.0</td>\n",
       "      <td>0.0</td>\n",
       "    </tr>\n",
       "    <tr>\n",
       "      <th>('St. Martin',)</th>\n",
       "      <td>4675</td>\n",
       "      <td>2.0</td>\n",
       "      <td>0.0</td>\n",
       "      <td>0.0</td>\n",
       "    </tr>\n",
       "    <tr>\n",
       "      <th>Afghanistan</th>\n",
       "      <td>6893502</td>\n",
       "      <td>3016644.0</td>\n",
       "      <td>87798.0</td>\n",
       "      <td>1569017.0</td>\n",
       "    </tr>\n",
       "    <tr>\n",
       "      <th>Albania</th>\n",
       "      <td>6850245</td>\n",
       "      <td>392178.0</td>\n",
       "      <td>11623.0</td>\n",
       "      <td>220905.0</td>\n",
       "    </tr>\n",
       "    <tr>\n",
       "      <th>Algeria</th>\n",
       "      <td>6890439</td>\n",
       "      <td>2221441.0</td>\n",
       "      <td>116245.0</td>\n",
       "      <td>1478914.0</td>\n",
       "    </tr>\n",
       "    <tr>\n",
       "      <th>Andorra</th>\n",
       "      <td>6876136</td>\n",
       "      <td>122714.0</td>\n",
       "      <td>6945.0</td>\n",
       "      <td>93571.0</td>\n",
       "    </tr>\n",
       "    <tr>\n",
       "      <th>Angola</th>\n",
       "      <td>6789938</td>\n",
       "      <td>71110.0</td>\n",
       "      <td>3267.0</td>\n",
       "      <td>23740.0</td>\n",
       "    </tr>\n",
       "    <tr>\n",
       "      <th>Antigua and Barbuda</th>\n",
       "      <td>6833025</td>\n",
       "      <td>7163.0</td>\n",
       "      <td>413.0</td>\n",
       "      <td>4886.0</td>\n",
       "    </tr>\n",
       "    <tr>\n",
       "      <th>Argentina</th>\n",
       "      <td>6872587</td>\n",
       "      <td>12053923.0</td>\n",
       "      <td>245544.0</td>\n",
       "      <td>6321410.0</td>\n",
       "    </tr>\n",
       "    <tr>\n",
       "      <th>Armenia</th>\n",
       "      <td>6879191</td>\n",
       "      <td>2764629.0</td>\n",
       "      <td>50169.0</td>\n",
       "      <td>1805743.0</td>\n",
       "    </tr>\n",
       "  </tbody>\n",
       "</table>\n",
       "</div>"
      ],
      "text/plain": [
       "                         SNo   Confirmed    Deaths  Recovered\n",
       "Country/Region                                               \n",
       " Azerbaijan             2664         1.0       0.0        0.0\n",
       "('St. Martin',)         4675         2.0       0.0        0.0\n",
       "Afghanistan          6893502   3016644.0   87798.0  1569017.0\n",
       "Albania              6850245    392178.0   11623.0   220905.0\n",
       "Algeria              6890439   2221441.0  116245.0  1478914.0\n",
       "Andorra              6876136    122714.0    6945.0    93571.0\n",
       "Angola               6789938     71110.0    3267.0    23740.0\n",
       "Antigua and Barbuda  6833025      7163.0     413.0     4886.0\n",
       "Argentina            6872587  12053923.0  245544.0  6321410.0\n",
       "Armenia              6879191   2764629.0   50169.0  1805743.0"
      ]
     },
     "execution_count": 16,
     "metadata": {},
     "output_type": "execute_result"
    }
   ],
   "source": [
    "df1=df.groupby('Country/Region').sum().head(10)\n",
    "df1"
   ]
  },
  {
   "cell_type": "code",
   "execution_count": 17,
   "metadata": {},
   "outputs": [
    {
     "data": {
      "text/plain": [
       "<matplotlib.axes._subplots.AxesSubplot at 0x2574776e608>"
      ]
     },
     "execution_count": 17,
     "metadata": {},
     "output_type": "execute_result"
    },
    {
     "data": {
      "image/png": "[encoded data removed]",
      "text/plain": [
       "<Figure size 864x432 with 1 Axes>"
      ]
     },
     "metadata": {
      "needs_background": "light"
     },
     "output_type": "display_data"
    }
   ],
   "source": [
    "plt.figure(figsize=(12,6))\n",
    "sns.scatterplot(data=df1)"
   ]
  },
  {
   "cell_type": "code",
   "execution_count": 18,
   "metadata": {},
   "outputs": [],
   "source": [
    "# remove all the records where confirmed cases is less than 10\n",
    "\n",
    "df=df[~(df.Confirmed < 10)]"
   ]
  },
  {
   "cell_type": "code",
   "execution_count": 19,
   "metadata": {},
   "outputs": [
    {
     "data": {
      "text/html": [
       "<div>\n",
       "<style scoped>\n",
       "    .dataframe tbody tr th:only-of-type {\n",
       "        vertical-align: middle;\n",
       "    }\n",
       "\n",
       "    .dataframe tbody tr th {\n",
       "        vertical-align: top;\n",
       "    }\n",
       "\n",
       "    .dataframe thead th {\n",
       "        text-align: right;\n",
       "    }\n",
       "</style>\n",
       "<table border=\"1\" class=\"dataframe\">\n",
       "  <thead>\n",
       "    <tr style=\"text-align: right;\">\n",
       "      <th></th>\n",
       "      <th>SNo</th>\n",
       "      <th>ObservationDate</th>\n",
       "      <th>Province/State</th>\n",
       "      <th>Country/Region</th>\n",
       "      <th>Last Update</th>\n",
       "      <th>Confirmed</th>\n",
       "      <th>Deaths</th>\n",
       "      <th>Recovered</th>\n",
       "    </tr>\n",
       "  </thead>\n",
       "  <tbody>\n",
       "    <tr>\n",
       "      <th>1</th>\n",
       "      <td>2</td>\n",
       "      <td>01/22/2020</td>\n",
       "      <td>Beijing</td>\n",
       "      <td>Mainland China</td>\n",
       "      <td>1/22/2020 17:00</td>\n",
       "      <td>14.0</td>\n",
       "      <td>0.0</td>\n",
       "      <td>0.0</td>\n",
       "    </tr>\n",
       "    <tr>\n",
       "      <th>5</th>\n",
       "      <td>6</td>\n",
       "      <td>01/22/2020</td>\n",
       "      <td>Guangdong</td>\n",
       "      <td>Mainland China</td>\n",
       "      <td>1/22/2020 17:00</td>\n",
       "      <td>26.0</td>\n",
       "      <td>0.0</td>\n",
       "      <td>0.0</td>\n",
       "    </tr>\n",
       "    <tr>\n",
       "      <th>13</th>\n",
       "      <td>14</td>\n",
       "      <td>01/22/2020</td>\n",
       "      <td>Hubei</td>\n",
       "      <td>Mainland China</td>\n",
       "      <td>1/22/2020 17:00</td>\n",
       "      <td>444.0</td>\n",
       "      <td>17.0</td>\n",
       "      <td>28.0</td>\n",
       "    </tr>\n",
       "    <tr>\n",
       "      <th>34</th>\n",
       "      <td>35</td>\n",
       "      <td>01/22/2020</td>\n",
       "      <td>Zhejiang</td>\n",
       "      <td>Mainland China</td>\n",
       "      <td>1/22/2020 17:00</td>\n",
       "      <td>10.0</td>\n",
       "      <td>0.0</td>\n",
       "      <td>0.0</td>\n",
       "    </tr>\n",
       "    <tr>\n",
       "      <th>39</th>\n",
       "      <td>40</td>\n",
       "      <td>01/23/2020</td>\n",
       "      <td>Beijing</td>\n",
       "      <td>Mainland China</td>\n",
       "      <td>1/23/20 17:00</td>\n",
       "      <td>22.0</td>\n",
       "      <td>0.0</td>\n",
       "      <td>0.0</td>\n",
       "    </tr>\n",
       "    <tr>\n",
       "      <th>...</th>\n",
       "      <td>...</td>\n",
       "      <td>...</td>\n",
       "      <td>...</td>\n",
       "      <td>...</td>\n",
       "      <td>...</td>\n",
       "      <td>...</td>\n",
       "      <td>...</td>\n",
       "      <td>...</td>\n",
       "    </tr>\n",
       "    <tr>\n",
       "      <th>95279</th>\n",
       "      <td>95280</td>\n",
       "      <td>08/25/2020</td>\n",
       "      <td>Zaporizhia Oblast</td>\n",
       "      <td>Ukraine</td>\n",
       "      <td>2020-08-26 04:28:11</td>\n",
       "      <td>1407.0</td>\n",
       "      <td>24.0</td>\n",
       "      <td>767.0</td>\n",
       "    </tr>\n",
       "    <tr>\n",
       "      <th>95280</th>\n",
       "      <td>95281</td>\n",
       "      <td>08/25/2020</td>\n",
       "      <td>Zeeland</td>\n",
       "      <td>Netherlands</td>\n",
       "      <td>2020-08-26 04:28:11</td>\n",
       "      <td>1024.0</td>\n",
       "      <td>70.0</td>\n",
       "      <td>0.0</td>\n",
       "    </tr>\n",
       "    <tr>\n",
       "      <th>95281</th>\n",
       "      <td>95282</td>\n",
       "      <td>08/25/2020</td>\n",
       "      <td>Zhejiang</td>\n",
       "      <td>Mainland China</td>\n",
       "      <td>2020-08-26 04:28:11</td>\n",
       "      <td>1277.0</td>\n",
       "      <td>1.0</td>\n",
       "      <td>1268.0</td>\n",
       "    </tr>\n",
       "    <tr>\n",
       "      <th>95282</th>\n",
       "      <td>95283</td>\n",
       "      <td>08/25/2020</td>\n",
       "      <td>Zhytomyr Oblast</td>\n",
       "      <td>Ukraine</td>\n",
       "      <td>2020-08-26 04:28:11</td>\n",
       "      <td>2923.0</td>\n",
       "      <td>60.0</td>\n",
       "      <td>1753.0</td>\n",
       "    </tr>\n",
       "    <tr>\n",
       "      <th>95283</th>\n",
       "      <td>95284</td>\n",
       "      <td>08/25/2020</td>\n",
       "      <td>Zuid-Holland</td>\n",
       "      <td>Netherlands</td>\n",
       "      <td>2020-08-26 04:28:11</td>\n",
       "      <td>18118.0</td>\n",
       "      <td>1339.0</td>\n",
       "      <td>0.0</td>\n",
       "    </tr>\n",
       "  </tbody>\n",
       "</table>\n",
       "<p>88510 rows × 8 columns</p>\n",
       "</div>"
      ],
      "text/plain": [
       "         SNo ObservationDate     Province/State  Country/Region  \\\n",
       "1          2      01/22/2020            Beijing  Mainland China   \n",
       "5          6      01/22/2020          Guangdong  Mainland China   \n",
       "13        14      01/22/2020              Hubei  Mainland China   \n",
       "34        35      01/22/2020           Zhejiang  Mainland China   \n",
       "39        40      01/23/2020            Beijing  Mainland China   \n",
       "...      ...             ...                ...             ...   \n",
       "95279  95280      08/25/2020  Zaporizhia Oblast         Ukraine   \n",
       "95280  95281      08/25/2020            Zeeland     Netherlands   \n",
       "95281  95282      08/25/2020           Zhejiang  Mainland China   \n",
       "95282  95283      08/25/2020    Zhytomyr Oblast         Ukraine   \n",
       "95283  95284      08/25/2020       Zuid-Holland     Netherlands   \n",
       "\n",
       "               Last Update  Confirmed  Deaths  Recovered  \n",
       "1          1/22/2020 17:00       14.0     0.0        0.0  \n",
       "5          1/22/2020 17:00       26.0     0.0        0.0  \n",
       "13         1/22/2020 17:00      444.0    17.0       28.0  \n",
       "34         1/22/2020 17:00       10.0     0.0        0.0  \n",
       "39           1/23/20 17:00       22.0     0.0        0.0  \n",
       "...                    ...        ...     ...        ...  \n",
       "95279  2020-08-26 04:28:11     1407.0    24.0      767.0  \n",
       "95280  2020-08-26 04:28:11     1024.0    70.0        0.0  \n",
       "95281  2020-08-26 04:28:11     1277.0     1.0     1268.0  \n",
       "95282  2020-08-26 04:28:11     2923.0    60.0     1753.0  \n",
       "95283  2020-08-26 04:28:11    18118.0  1339.0        0.0  \n",
       "\n",
       "[88510 rows x 8 columns]"
      ]
     },
     "execution_count": 19,
     "metadata": {},
     "output_type": "execute_result"
    }
   ],
   "source": [
    "df"
   ]
  },
  {
   "cell_type": "code",
   "execution_count": 20,
   "metadata": {},
   "outputs": [
    {
     "data": {
      "text/plain": [
       "Country/Region\n",
       "US              372667312.0\n",
       "Brazil          179803832.0\n",
       "India           108952271.0\n",
       "Russia           71355949.0\n",
       "Spain            37193505.0\n",
       "UK               36523608.0\n",
       "Italy            34053836.0\n",
       "Peru             33508332.0\n",
       "Mexico           29168934.0\n",
       "Iran             28939007.0\n",
       "France           28570431.0\n",
       "Germany          27467397.0\n",
       "South Africa     27298784.0\n",
       "Chile            27061385.0\n",
       "Turkey           24968116.0\n",
       "Name: Confirmed, dtype: float64"
      ]
     },
     "execution_count": 20,
     "metadata": {},
     "output_type": "execute_result"
    }
   ],
   "source": [
    "# Find out in which region maximum number of cases been recorded\n",
    "confirmed_data=df.groupby('Country/Region')['Confirmed'].sum().sort_values(ascending=False).head(15)\n",
    "confirmed_data"
   ]
  },
  {
   "cell_type": "code",
   "execution_count": 21,
   "metadata": {},
   "outputs": [
    {
     "data": {
      "text/plain": [
       "<matplotlib.axes._subplots.AxesSubplot at 0x25747650488>"
      ]
     },
     "execution_count": 21,
     "metadata": {},
     "output_type": "execute_result"
    },
    {
     "data": {
      "image/png": "[encoded data removed]",
      "text/plain": [
       "<Figure size 1080x576 with 1 Axes>"
      ]
     },
     "metadata": {
      "needs_background": "light"
     },
     "output_type": "display_data"
    }
   ],
   "source": [
    "plt.figure(figsize=(15,8))\n",
    "sns.scatterplot(data=confirmed_data,color='g')"
   ]
  },
  {
   "cell_type": "code",
   "execution_count": 23,
   "metadata": {},
   "outputs": [
    {
     "data": {
      "text/plain": [
       "Country/Region\n",
       "US        15648269.0\n",
       "Brazil     6927587.0\n",
       "UK         5232221.0\n",
       "Italy      4730373.0\n",
       "France     3929102.0\n",
       "Spain      3862577.0\n",
       "Mexico     3279968.0\n",
       "India      2455407.0\n",
       "Iran       1567143.0\n",
       "Peru       1315793.0\n",
       "Name: Deaths, dtype: float64"
      ]
     },
     "execution_count": 23,
     "metadata": {},
     "output_type": "execute_result"
    }
   ],
   "source": [
    "# Find out in which region maximum number of death is been recorded\n",
    "death_data=df.groupby('Country/Region')['Deaths'].sum().sort_values(ascending=False).head(10)\n",
    "death_data"
   ]
  },
  {
   "cell_type": "code",
   "execution_count": 24,
   "metadata": {},
   "outputs": [
    {
     "data": {
      "text/plain": [
       "<matplotlib.axes._subplots.AxesSubplot at 0x257479b3308>"
      ]
     },
     "execution_count": 24,
     "metadata": {},
     "output_type": "execute_result"
    },
    {
     "data": {
      "image/png": "[encoded data removed]",
      "text/plain": [
       "<Figure size 864x432 with 1 Axes>"
      ]
     },
     "metadata": {
      "needs_background": "light"
     },
     "output_type": "display_data"
    }
   ],
   "source": [
    "plt.figure(figsize=(12,6))\n",
    "sns.scatterplot(data=death_data)"
   ]
  },
  {
   "cell_type": "code",
   "execution_count": 25,
   "metadata": {},
   "outputs": [
    {
     "data": {
      "text/plain": [
       "Country/Region\n",
       "Brazil            122016980.0\n",
       "India              72114854.0\n",
       "Russia             45451993.0\n",
       "Iran               23515953.0\n",
       "Germany            22879716.0\n",
       "Mexico             22554573.0\n",
       "Italy              21547598.0\n",
       "Turkey             19889215.0\n",
       "Chile              18719829.0\n",
       "Spain              18486812.0\n",
       "South Africa       18057686.0\n",
       "Saudi Arabia       15916378.0\n",
       "Pakistan           14480175.0\n",
       "Mainland China     13901326.0\n",
       "Colombia            9978779.0\n",
       "Name: Recovered, dtype: float64"
      ]
     },
     "execution_count": 25,
     "metadata": {},
     "output_type": "execute_result"
    }
   ],
   "source": [
    "#  Find out in which region maximum no of recoveries are recorded\n",
    "recover_data=df.groupby('Country/Region')['Recovered'].sum().sort_values(ascending=False).head(15)\n",
    "recover_data"
   ]
  },
  {
   "cell_type": "code",
   "execution_count": 26,
   "metadata": {},
   "outputs": [
    {
     "data": {
      "text/plain": [
       "<matplotlib.axes._subplots.AxesSubplot at 0x25747a22288>"
      ]
     },
     "execution_count": 26,
     "metadata": {},
     "output_type": "execute_result"
    },
    {
     "data": {
      "image/png": "[encoded data removed]",
      "text/plain": [
       "<Figure size 1224x576 with 1 Axes>"
      ]
     },
     "metadata": {
      "needs_background": "light"
     },
     "output_type": "display_data"
    }
   ],
   "source": [
    "plt.figure(figsize=(17,8))\n",
    "sns.scatterplot(data=recover_data,color='r',marker='+',s=150)"
   ]
  },
  {
   "cell_type": "code",
   "execution_count": 28,
   "metadata": {},
   "outputs": [],
   "source": [
    "# Find out in which region min no of deaths recorded\n",
    "min_deaths=df.groupby('Country/Region')['Deaths'].sum().sort_values(ascending=True).head(10)"
   ]
  },
  {
   "cell_type": "code",
   "execution_count": 29,
   "metadata": {},
   "outputs": [
    {
     "data": {
      "text/plain": [
       "Country/Region\n",
       "occupied Palestinian territory      0.0\n",
       "Saint Vincent and the Grenadines    0.0\n",
       "Bhutan                              0.0\n",
       "Saint Lucia                         0.0\n",
       "Saint Kitts and Nevis               0.0\n",
       "Reunion                             0.0\n",
       "Republic of Ireland                 0.0\n",
       "Palestine                           0.0\n",
       "Dominica                            0.0\n",
       "Eritrea                             0.0\n",
       "Name: Deaths, dtype: float64"
      ]
     },
     "execution_count": 29,
     "metadata": {},
     "output_type": "execute_result"
    }
   ],
   "source": [
    "min_deaths"
   ]
  },
  {
   "cell_type": "code",
   "execution_count": 32,
   "metadata": {},
   "outputs": [],
   "source": [
    "#No of confirmed,deaths and recovered cases  from indian till 29 april 2020\n",
    "india_df=df[df['Country/Region'] == 'India']"
   ]
  },
  {
   "cell_type": "code",
   "execution_count": 33,
   "metadata": {},
   "outputs": [
    {
     "data": {
      "text/plain": [
       "<matplotlib.axes._subplots.AxesSubplot at 0x25747d5b9c8>"
      ]
     },
     "execution_count": 33,
     "metadata": {},
     "output_type": "execute_result"
    },
    {
     "data": {
      "image/png": "[encoded data removed]",
      "text/plain": [
       "<Figure size 432x288 with 1 Axes>"
      ]
     },
     "metadata": {
      "needs_background": "light"
     },
     "output_type": "display_data"
    }
   ],
   "source": [
    "sns.boxplot(data=india_df)"
   ]
  },
  {
   "cell_type": "code",
   "execution_count": null,
   "metadata": {},
   "outputs": [],
   "source": []
  }
 ],
 "metadata": {
  "kernelspec": {
   "display_name": "Python 3",
   "language": "python",
   "name": "python3"
  },
  "language_info": {
   "codemirror_mode": {
    "name": "ipython",
    "version": 3
   },
   "file_extension": ".py",
   "mimetype": "text/x-python",
   "name": "python",
   "nbconvert_exporter": "python",
   "pygments_lexer": "ipython3",
   "version": "3.7.4"
  }
 },
 "nbformat": 4,
 "nbformat_minor": 4
}
